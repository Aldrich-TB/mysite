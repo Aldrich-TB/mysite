{
 "cells": [
  {
   "cell_type": "code",
   "execution_count": 39,
   "metadata": {
    "collapsed": true
   },
   "outputs": [],
   "source": [
    "import re\n",
    "import urllib"
   ]
  },
  {
   "cell_type": "code",
   "execution_count": 40,
   "metadata": {
    "collapsed": false
   },
   "outputs": [],
   "source": [
    "f = open('src/access_log_payload4.txt')\n",
    "lkp = re.compile(r'\\?.*?HTTP')\n",
    "# lkp =re.compile(r'HTTP')"
   ]
  },
  {
   "cell_type": "code",
   "execution_count": 41,
   "metadata": {
    "collapsed": false
   },
   "outputs": [],
   "source": [
    "payloads = []\n",
    "for line in f.readlines():\n",
    "#     print line\n",
    "#     print re.match(r'.*',line).groups()\n",
    "    group = lkp.findall(line)\n",
    "    if group:\n",
    "#         print group[0]\n",
    "        payloads.append(group[0]);"
   ]
  },
  {
   "cell_type": "code",
   "execution_count": null,
   "metadata": {
    "collapsed": false
   },
   "outputs": [],
   "source": [
    "output = open('src/payload-use0.txt','w+')\n",
    "for pl in payloads:\n",
    "    pl = re.sub(r'\\?.*?\\=','',pl)\n",
    "    pl = re.sub(r' HTTP','',pl)\n",
    "    pl = urllib.unquote(pl)\n",
    "\n",
    "    output.write(pl)\n",
    "    output.write('\\n')\n",
    "\n",
    "output.close()\n",
    "f.close()"
   ]
  }
 ],
 "metadata": {
  "anaconda-cloud": {},
  "kernelspec": {
   "display_name": "Python [Root]",
   "language": "python",
   "name": "Python [Root]"
  },
  "language_info": {
   "codemirror_mode": {
    "name": "ipython",
    "version": 2
   },
   "file_extension": ".py",
   "mimetype": "text/x-python",
   "name": "python",
   "nbconvert_exporter": "python",
   "pygments_lexer": "ipython2",
   "version": "2.7.12"
  }
 },
 "nbformat": 4,
 "nbformat_minor": 0
}
